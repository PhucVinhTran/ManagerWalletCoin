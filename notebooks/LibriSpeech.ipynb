{
  "cells": [
    {
      "cell_type": "markdown",
      "metadata": {
        "id": "v5hvo8QWN-a9"
      },
      "source": [
        "# Installing Whisper\n",
        "\n",
        "The commands below will install the Python packages needed to use Whisper models and evaluate the transcription results."
      ]
    },
    {
      "cell_type": "code",
      "source": [
        "!pip install qrcode[pil]\n"
      ],
      "metadata": {
        "id": "wDx7bfSxy7KT",
        "outputId": "4f9515d4-db30-4567-966d-ac6c8becd7b2",
        "colab": {
          "base_uri": "https://localhost:8080/"
        }
      },
      "execution_count": 2,
      "outputs": [
        {
          "output_type": "stream",
          "name": "stdout",
          "text": [
            "Collecting qrcode[pil]\n",
            "  Downloading qrcode-8.0-py3-none-any.whl.metadata (17 kB)\n",
            "Requirement already satisfied: pillow>=9.1.0 in /usr/local/lib/python3.10/dist-packages (from qrcode[pil]) (11.0.0)\n",
            "Downloading qrcode-8.0-py3-none-any.whl (45 kB)\n",
            "\u001b[?25l   \u001b[90m━━━━━━━━━━━━━━━━━━━━━━━━━━━━━━━━━━━━━━━━\u001b[0m \u001b[32m0.0/45.7 kB\u001b[0m \u001b[31m?\u001b[0m eta \u001b[36m-:--:--\u001b[0m\r\u001b[2K   \u001b[90m━━━━━━━━━━━━━━━━━━━━━━━━━━━━━━━━━━━━━━━━\u001b[0m \u001b[32m45.7/45.7 kB\u001b[0m \u001b[31m4.3 MB/s\u001b[0m eta \u001b[36m0:00:00\u001b[0m\n",
            "\u001b[?25hInstalling collected packages: qrcode\n",
            "Successfully installed qrcode-8.0\n"
          ]
        }
      ]
    },
    {
      "cell_type": "code",
      "execution_count": 3,
      "metadata": {
        "id": "3CqtR2Fi5-vP",
        "outputId": "0e4a5ced-13fd-48d6-d75a-7b8317d4841e",
        "colab": {
          "base_uri": "https://localhost:8080/",
          "height": 382
        }
      },
      "outputs": [
        {
          "output_type": "stream",
          "name": "stdout",
          "text": [
            "QR Code created for URL: wss://example.com/socket\n",
            "QR Code saved as: websocket_qr.png\n"
          ]
        },
        {
          "output_type": "display_data",
          "data": {
            "image/png": "[encoded data removed]",
            "text/plain": [
              "<IPython.core.display.Image object>"
            ]
          },
          "metadata": {}
        }
      ],
      "source": [
        "import qrcode\n",
        "import os\n",
        "from IPython.display import Image, display\n",
        "\n",
        "def create_qr_code(url: str, filename: str = \"websocket_qr.png\"):\n",
        "    try:\n",
        "        # Kiểm tra định dạng URL\n",
        "        if not (url.startswith(\"ws://\") or url.startswith(\"wss://\")):\n",
        "            raise ValueError(\"URL không hợp lệ. Vui lòng sử dụng định dạng ws:// hoặc wss://.\")\n",
        "\n",
        "        # Tạo QR code\n",
        "        qr = qrcode.QRCode(\n",
        "            version=1,\n",
        "            error_correction=qrcode.constants.ERROR_CORRECT_L,\n",
        "            box_size=10,\n",
        "            border=4,\n",
        "        )\n",
        "        qr.add_data(url)\n",
        "        qr.make(fit=True)\n",
        "\n",
        "        # Tạo ảnh từ QR code\n",
        "        img = qr.make_image(fill_color=\"black\", back_color=\"white\")\n",
        "\n",
        "        # Lưu ảnh QR code trong thư mục làm việc hiện tại\n",
        "        img.save(filename)\n",
        "        print(f\"QR Code created for URL: {url}\")\n",
        "        print(f\"QR Code saved as: {filename}\")\n",
        "\n",
        "        display(Image(filename=filename))\n",
        "    except Exception as e:\n",
        "        print(f\"Lỗi khi tạo QR code: {e}\")\n",
        "\n",
        "ws_url = \"29\"\n",
        "create_qr_code(ws_url)"
      ]
    }
  ],
  "metadata": {
    "accelerator": "GPU",
    "colab": {
      "provenance": []
    },
    "gpuClass": "standard",
    "kernelspec": {
      "display_name": "Python 3 (ipykernel)",
      "language": "python",
      "name": "python3"
    },
    "language_info": {
      "codemirror_mode": {
        "name": "ipython",
        "version": 3
      },
      "file_extension": ".py",
      "mimetype": "text/x-python",
      "name": "python",
      "nbconvert_exporter": "python",
      "pygments_lexer": "ipython3",
      "version": "3.9.9"
    }
  },
  "nbformat": 4,
  "nbformat_minor": 0
}